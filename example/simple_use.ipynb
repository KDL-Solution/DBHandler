{
 "cells": [
  {
   "cell_type": "code",
   "execution_count": 2,
   "metadata": {},
   "outputs": [],
   "source": [
    "import os\n",
    "os.chdir(\"../\")\n",
    "from lmdb_handler import LMDBHandler\n",
    "import cv2\n",
    "import numpy as np\n",
    "from tqdm import tqdm"
   ]
  },
  {
   "cell_type": "code",
   "execution_count": 3,
   "metadata": {},
   "outputs": [],
   "source": [
    "lmdb_data = LMDBHandler(\"/home/kai/workspace/LMDBHandler/data/lmdb/biz_card\",'r')"
   ]
  },
  {
   "cell_type": "code",
   "execution_count": 4,
   "metadata": {},
   "outputs": [
    {
     "data": {
      "text/plain": [
       "50921"
      ]
     },
     "execution_count": 4,
     "metadata": {},
     "output_type": "execute_result"
    }
   ],
   "source": [
    "len(lmdb_data)"
   ]
  },
  {
   "cell_type": "code",
   "execution_count": 6,
   "metadata": {},
   "outputs": [
    {
     "name": "stderr",
     "output_type": "stream",
     "text": [
      "  0%|          | 0/50921 [00:00<?, ?it/s]"
     ]
    },
    {
     "name": "stderr",
     "output_type": "stream",
     "text": [
      " 11%|█         | 5372/50921 [00:10<01:27, 522.02it/s]\n"
     ]
    },
    {
     "ename": "KeyboardInterrupt",
     "evalue": "",
     "output_type": "error",
     "traceback": [
      "\u001b[0;31m---------------------------------------------------------------------------\u001b[0m",
      "\u001b[0;31mKeyboardInterrupt\u001b[0m                         Traceback (most recent call last)",
      "Cell \u001b[0;32mIn[6], line 2\u001b[0m\n\u001b[1;32m      1\u001b[0m \u001b[38;5;28;01mfor\u001b[39;00m idx \u001b[38;5;129;01min\u001b[39;00m tqdm(\u001b[38;5;28mrange\u001b[39m(\u001b[38;5;28mlen\u001b[39m(lmdb_data))):\n\u001b[0;32m----> 2\u001b[0m     img, annot \u001b[38;5;241m=\u001b[39m \u001b[43mlmdb_data\u001b[49m\u001b[38;5;241;43m.\u001b[39;49m\u001b[43mget_data\u001b[49m\u001b[43m(\u001b[49m\u001b[38;5;241;43m3232\u001b[39;49m\u001b[43m)\u001b[49m\n",
      "File \u001b[0;32m~/workspace/LMDBHandler/lmdb_handler.py:82\u001b[0m, in \u001b[0;36mLMDBHandler.get_data\u001b[0;34m(self, idx)\u001b[0m\n\u001b[1;32m     81\u001b[0m \u001b[38;5;28;01mdef\u001b[39;00m \u001b[38;5;21mget_data\u001b[39m(\u001b[38;5;28mself\u001b[39m, idx):\n\u001b[0;32m---> 82\u001b[0m     img \u001b[38;5;241m=\u001b[39m \u001b[38;5;28;43mself\u001b[39;49m\u001b[38;5;241;43m.\u001b[39;49m\u001b[43m_get_img\u001b[49m\u001b[43m(\u001b[49m\u001b[43midx\u001b[49m\u001b[43m)\u001b[49m\n\u001b[1;32m     83\u001b[0m     annots \u001b[38;5;241m=\u001b[39m \u001b[38;5;28mself\u001b[39m\u001b[38;5;241m.\u001b[39m_get_annots(idx)\n\u001b[1;32m     84\u001b[0m     \u001b[38;5;28;01mreturn\u001b[39;00m img, annots\n",
      "File \u001b[0;32m~/workspace/LMDBHandler/lmdb_handler.py:103\u001b[0m, in \u001b[0;36mLMDBHandler._get_img\u001b[0;34m(self, idx)\u001b[0m\n\u001b[1;32m    101\u001b[0m     \u001b[38;5;28;01mreturn\u001b[39;00m \u001b[38;5;167;01mKeyError\u001b[39;00m(\u001b[38;5;124mf\u001b[39m\u001b[38;5;124m\"\u001b[39m\u001b[38;5;124mNo image found for index \u001b[39m\u001b[38;5;132;01m{\u001b[39;00midx\u001b[38;5;132;01m}\u001b[39;00m\u001b[38;5;124m\"\u001b[39m)\n\u001b[1;32m    102\u001b[0m img_array \u001b[38;5;241m=\u001b[39m np\u001b[38;5;241m.\u001b[39mfrombuffer(img_buffer, dtype\u001b[38;5;241m=\u001b[39mnp\u001b[38;5;241m.\u001b[39muint8)\n\u001b[0;32m--> 103\u001b[0m img \u001b[38;5;241m=\u001b[39m \u001b[43mcv2\u001b[49m\u001b[38;5;241;43m.\u001b[39;49m\u001b[43mimdecode\u001b[49m\u001b[43m(\u001b[49m\u001b[43mimg_array\u001b[49m\u001b[43m,\u001b[49m\u001b[43m \u001b[49m\u001b[43mcv2\u001b[49m\u001b[38;5;241;43m.\u001b[39;49m\u001b[43mIMREAD_COLOR\u001b[49m\u001b[43m)\u001b[49m\n\u001b[1;32m    104\u001b[0m \u001b[38;5;28;01mreturn\u001b[39;00m img\n",
      "\u001b[0;31mKeyboardInterrupt\u001b[0m: "
     ]
    }
   ],
   "source": [
    "for idx in tqdm(range(len(lmdb_data))):\n",
    "    img, annot = lmdb_data.get_data(3232)"
   ]
  },
  {
   "cell_type": "code",
   "execution_count": 16,
   "metadata": {},
   "outputs": [],
   "source": [
    "img, annot = lmdb_data.get_data(3232)"
   ]
  },
  {
   "cell_type": "code",
   "execution_count": 17,
   "metadata": {},
   "outputs": [
    {
     "data": {
      "text/plain": [
       "{'image_width': 571,\n",
       " 'image_height': 480,\n",
       " 'updated_at': '2024-10-15T08:40:34Z',\n",
       " 'annotations': {'words': {'updated_at': '2024-10-15T08:40:34Z',\n",
       "   'data': [{'idx': 0,\n",
       "     'quad': [[0.2955478861954083, 0.1234745979309082],\n",
       "      [0.783503650992639, 0.12820278803507487],\n",
       "      [0.7830985314791757, 0.1873684565226237],\n",
       "      [0.29514276668194506, 0.18264026641845704]],\n",
       "     'confidence': 1.0},\n",
       "    {'idx': 1,\n",
       "     'quad': [[0.3330653202304072, 0.27365522384643554],\n",
       "      [0.46531979215124236, 0.27566378911336265],\n",
       "      [0.4647395840459446, 0.32972873051961266],\n",
       "      [0.33248511212510945, 0.32772016525268555]],\n",
       "     'confidence': 1.0},\n",
       "    {'idx': 2,\n",
       "     'quad': [[0.4779902523328043, 0.2786642710367839],\n",
       "      [0.7474731872879269, 0.28225364685058596],\n",
       "      [0.7470394208009523, 0.3283329645792643],\n",
       "      [0.47755648584582966, 0.3247435887654622]],\n",
       "     'confidence': 1.0},\n",
       "    {'idx': 3,\n",
       "     'quad': [[0.3710918793953864, 0.36930131912231445],\n",
       "      [0.7102855141233855, 0.37469072341918946],\n",
       "      [0.709727646381759, 0.4243792533874512],\n",
       "      [0.3705340116537599, 0.4189898490905762]],\n",
       "     'confidence': 1.0},\n",
       "    {'idx': 4,\n",
       "     'quad': [[0.37411140936268605, 0.4627614339192708],\n",
       "      [0.7082467154320818, 0.4683007558186849],\n",
       "      [0.7076498322227999, 0.5192513147989909],\n",
       "      [0.37351452615340414, 0.5137119928995768]],\n",
       "     'confidence': 1.0},\n",
       "    {'idx': 5,\n",
       "     'quad': [[0.754297259810092, 0.61722412109375],\n",
       "      [0.9240843443862193, 0.620223871866862],\n",
       "      [0.923413812801007, 0.6739298502604166],\n",
       "      [0.7536267282248796, 0.6709300994873046]],\n",
       "     'confidence': 1.0},\n",
       "    {'idx': 6,\n",
       "     'quad': [[0.16395964346917416, 0.6962141036987305],\n",
       "      [0.3108967582315154, 0.6989746729532877],\n",
       "      [0.31007476111844623, 0.7608879725138347],\n",
       "      [0.16313764635610498, 0.7581274032592773]],\n",
       "     'confidence': 1.0},\n",
       "    {'idx': 7,\n",
       "     'quad': [[0.32234373610408, 0.6972345987955729],\n",
       "      [0.885026868295753, 0.7076647440592448],\n",
       "      [0.8841889443205451, 0.7716360727945963],\n",
       "      [0.321505812128872, 0.7612059275309245]],\n",
       "     'confidence': 1.0},\n",
       "    {'idx': 8,\n",
       "     'quad': [[0.16621257294289077, 0.7705551147460937],\n",
       "      [0.22549684327454575, 0.7716742197672526],\n",
       "      [0.22487083207913747, 0.8186037699381511],\n",
       "      [0.16558656174748249, 0.8174846649169922]],\n",
       "     'confidence': 1.0},\n",
       "    {'idx': 9,\n",
       "     'quad': [[0.5325331813190948, 0.8633747100830078],\n",
       "      [0.6069653940284315, 0.8648270924886068],\n",
       "      [0.6061520551424311, 0.9238126118977864],\n",
       "      [0.5317198424330943, 0.9223602294921875]],\n",
       "     'confidence': 1.0},\n",
       "    {'idx': 10,\n",
       "     'quad': [[0.6193887206176116, 0.8714927037556967],\n",
       "      [0.9189056556821913, 0.877058474222819],\n",
       "      [0.918209790765926, 0.9300488154093425],\n",
       "      [0.6186928557013464, 0.92448304494222]],\n",
       "     'confidence': 1.0}]},\n",
       "  'key_values': {'updated_at': '2024-10-15T08:40:34Z',\n",
       "   'used_keys': ['address',\n",
       "    'address_label',\n",
       "    'cell_phone',\n",
       "    'corp_name_kor',\n",
       "    'corp_num',\n",
       "    'corp_num_label',\n",
       "    'fax_num',\n",
       "    'fax_num_label',\n",
       "    'name_kor',\n",
       "    'position_kor'],\n",
       "   'data': [{'key': 'position_kor',\n",
       "     'value': None,\n",
       "     'quad': [[0.2955478861954083, 0.1234745979309082],\n",
       "      [0.783503650992639, 0.12820278803507487],\n",
       "      [0.7830985314791757, 0.1873684565226237],\n",
       "      [0.29514276668194506, 0.18264026641845704]]},\n",
       "    {'key': 'corp_num_label',\n",
       "     'value': None,\n",
       "     'quad': [[0.3330653202304072, 0.27365522384643554],\n",
       "      [0.46531979215124236, 0.27566378911336265],\n",
       "      [0.4647395840459446, 0.32972873051961266],\n",
       "      [0.33248511212510945, 0.32772016525268555]]},\n",
       "    {'key': 'corp_num',\n",
       "     'value': None,\n",
       "     'quad': [[0.4779902523328043, 0.2786642710367839],\n",
       "      [0.7474731872879269, 0.28225364685058596],\n",
       "      [0.7470394208009523, 0.3283329645792643],\n",
       "      [0.47755648584582966, 0.3247435887654622]]},\n",
       "    {'key': 'cell_phone',\n",
       "     'value': None,\n",
       "     'quad': [[0.3710918793953864, 0.36930131912231445],\n",
       "      [0.7102855141233855, 0.37469072341918946],\n",
       "      [0.709727646381759, 0.4243792533874512],\n",
       "      [0.3705340116537599, 0.4189898490905762]]},\n",
       "    {'key': 'corp_name_kor',\n",
       "     'value': None,\n",
       "     'quad': [[0.37411140936268605, 0.4627614339192708],\n",
       "      [0.7082467154320818, 0.4683007558186849],\n",
       "      [0.7076498322227999, 0.5192513147989909],\n",
       "      [0.37351452615340414, 0.5137119928995768]]},\n",
       "    {'key': 'name_kor',\n",
       "     'value': None,\n",
       "     'quad': [[0.754297259810092, 0.61722412109375],\n",
       "      [0.9240843443862193, 0.620223871866862],\n",
       "      [0.923413812801007, 0.6739298502604166],\n",
       "      [0.7536267282248796, 0.6709300994873046]]},\n",
       "    {'key': 'address_label',\n",
       "     'value': None,\n",
       "     'quad': [[0.16395964346917416, 0.6962141036987305],\n",
       "      [0.3108967582315154, 0.6989746729532877],\n",
       "      [0.31007476111844623, 0.7608879725138347],\n",
       "      [0.16313764635610498, 0.7581274032592773]]},\n",
       "    {'key': 'address',\n",
       "     'value': None,\n",
       "     'quad': [[0.32234373610408, 0.6972345987955729],\n",
       "      [0.885026868295753, 0.7076647440592448],\n",
       "      [0.8841889443205451, 0.7716360727945963],\n",
       "      [0.321505812128872, 0.7612059275309245]]},\n",
       "    {'key': 'address',\n",
       "     'value': None,\n",
       "     'quad': [[0.16621257294289077, 0.7705551147460937],\n",
       "      [0.22549684327454575, 0.7716742197672526],\n",
       "      [0.22487083207913747, 0.8186037699381511],\n",
       "      [0.16558656174748249, 0.8174846649169922]]},\n",
       "    {'key': 'fax_num_label',\n",
       "     'value': None,\n",
       "     'quad': [[0.5325331813190948, 0.8633747100830078],\n",
       "      [0.6069653940284315, 0.8648270924886068],\n",
       "      [0.6061520551424311, 0.9238126118977864],\n",
       "      [0.5317198424330943, 0.9223602294921875]]},\n",
       "    {'key': 'fax_num',\n",
       "     'value': None,\n",
       "     'quad': [[0.6193887206176116, 0.8714927037556967],\n",
       "      [0.9189056556821913, 0.877058474222819],\n",
       "      [0.918209790765926, 0.9300488154093425],\n",
       "      [0.6186928557013464, 0.92448304494222]]}]}}}"
      ]
     },
     "execution_count": 17,
     "metadata": {},
     "output_type": "execute_result"
    }
   ],
   "source": [
    "annot"
   ]
  },
  {
   "cell_type": "code",
   "execution_count": 3,
   "metadata": {},
   "outputs": [],
   "source": [
    "# Read image and create annotations\n",
    "img = np.zeros((512, 512, 3), dtype=np.uint8)\n",
    "annotations = {\"label\": \"example\", \"bbox\": [100, 200, 300, 400]}\n"
   ]
  },
  {
   "cell_type": "code",
   "execution_count": 13,
   "metadata": {},
   "outputs": [
    {
     "name": "stdout",
     "output_type": "stream",
     "text": [
      "Data 4 inserted.\n",
      "lmdb_test updated. NUM_DATA: 5\n"
     ]
    }
   ],
   "source": [
    "\n",
    "# Store image and annotations in LMDB\n",
    "idx = lmdb_data.put_data(img, annotations,4)"
   ]
  },
  {
   "cell_type": "code",
   "execution_count": 14,
   "metadata": {},
   "outputs": [
    {
     "data": {
      "text/plain": [
       "5"
      ]
     },
     "execution_count": 14,
     "metadata": {},
     "output_type": "execute_result"
    }
   ],
   "source": [
    "lmdb_data._get_num_data()"
   ]
  },
  {
   "cell_type": "code",
   "execution_count": 15,
   "metadata": {},
   "outputs": [
    {
     "data": {
      "text/plain": [
       "5"
      ]
     },
     "execution_count": 15,
     "metadata": {},
     "output_type": "execute_result"
    }
   ],
   "source": [
    "len(lmdb_data)"
   ]
  }
 ],
 "metadata": {
  "kernelspec": {
   "display_name": "kaiocr",
   "language": "python",
   "name": "python3"
  },
  "language_info": {
   "codemirror_mode": {
    "name": "ipython",
    "version": 3
   },
   "file_extension": ".py",
   "mimetype": "text/x-python",
   "name": "python",
   "nbconvert_exporter": "python",
   "pygments_lexer": "ipython3",
   "version": "3.10.14"
  }
 },
 "nbformat": 4,
 "nbformat_minor": 2
}
